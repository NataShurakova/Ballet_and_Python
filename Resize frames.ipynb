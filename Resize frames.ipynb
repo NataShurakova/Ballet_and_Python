{
 "cells": [
  {
   "cell_type": "markdown",
   "id": "dcc2ec23",
   "metadata": {},
   "source": [
    "# Код для изменения размера кадров (фреймов):\n",
    "Библиотека Open CV требует, чтобы изображения (jpeg-файлы), из которых создается конкретное видео, имели все одинаковый размер.\n",
    "\n",
    "Поэтому нужно унифицировать размеры изображений (кадров).\n",
    "\n",
    "Создаем jpeg двух размеров:\n",
    "+ **1280 х 720** - размер jpeg-файлов (кадров), которые используются для создания видео балетных номеров\n",
    "+ **256 х 144**  - размер jpeg-файлов (кадров), которые используются для создания видеосэмплов - для предпросмотра балетных элементов\n",
    "\n",
    "За основу взят код из:\n",
    "+ Python PIL | Image.resize() method https://www.geeksforgeeks.org/python-pil-image-resize-method/\n",
    "\n",
    "Используем библиотеки:\n",
    "+ `PIL` - для изменения размера изображений\n",
    "+ `os` - для работы с операционной системой"
   ]
  },
  {
   "cell_type": "code",
   "execution_count": 1,
   "id": "604fe663",
   "metadata": {},
   "outputs": [],
   "source": [
    "import os \n",
    "from PIL import Image  "
   ]
  },
  {
   "cell_type": "markdown",
   "id": "c47d1103",
   "metadata": {},
   "source": [
    "### Указываем названия папок с файлами"
   ]
  },
  {
   "cell_type": "code",
   "execution_count": 2,
   "id": "c8dcb7ec",
   "metadata": {},
   "outputs": [],
   "source": [
    "folder_FromYoutube_jpeg = 'FromYoutube_jpeg'\n",
    "folder_frames_big = 'BalletFramesBig'\n",
    "folder_frames_small = 'BalletFramesSmall'"
   ]
  },
  {
   "cell_type": "markdown",
   "id": "9fd0080c",
   "metadata": {},
   "source": [
    "## Resize: 1280 х 720  пикселей"
   ]
  },
  {
   "cell_type": "code",
   "execution_count": null,
   "id": "8878cb26-0ba1-422a-9e68-eb3df4662895",
   "metadata": {},
   "outputs": [],
   "source": [
    "width = 1280\n",
    "height  = 720\n",
    "\n",
    "# пробегаем все кадры размера 1280 на 720 - они расположены в папке BalletFramesBig\n",
    "for file in os.listdir(folder_FromYoutube_jpeg):\n",
    "    # отбираем только кадры (картинки): файлы с расширением jpg или jpeg\n",
    "    if file.endswith(\".jpg\") or file.endswith(\".jpeg\"):\n",
    "        \n",
    "        # поочередно открываем кадры, используя библиотеку PIL Image\n",
    "        im = Image.open(os.path.join(folder_FromYoutube_jpeg, file))\n",
    "        \n",
    "        # изменяем размер кадра\n",
    "        imResize = im.resize((width, height), Image.ANTIALIAS)\n",
    "\n",
    "        # сохраняем уменьшенные кадры в папку folder_frames_big\n",
    "        imResize.save(os.path.join(folder_frames_big, file), 'JPEG', quality = 95)\n",
    "print('done')  "
   ]
  },
  {
   "cell_type": "markdown",
   "id": "e45331a5",
   "metadata": {},
   "source": [
    "## Resize: 256 х 144 пикселей"
   ]
  },
  {
   "cell_type": "code",
   "execution_count": null,
   "id": "2d9b5116-d987-4250-a2ec-e287cf1a278c",
   "metadata": {},
   "outputs": [],
   "source": [
    "width = 256\n",
    "height = 144\n",
    "\n",
    "# пробегаем все кадры размера 1280 на 720 - они расположены в папке BalletFramesBig\n",
    "for file in os.listdir(folder_FromYoutube_jpeg):\n",
    "    # отбираем только кадры (картинки): файлы с расширением jpg или jpeg\n",
    "    if file.endswith(\".jpg\") or file.endswith(\".jpeg\"):\n",
    "        \n",
    "        # поочередно открываем кадры, используя библиотеку PIL Image\n",
    "        im = Image.open(os.path.join(folder_FromYoutube_jpeg, file))\n",
    "        \n",
    "        # изменяем размер кадра\n",
    "        imResize = im.resize((width, height), Image.ANTIALIAS)\n",
    "\n",
    "        # сохраняем уменьшенные кадры в папку folder_frames_small\n",
    "        imResize.save(os.path.join(folder_frames_small, file), 'JPEG', quality = 95)\n",
    "print('done') "
   ]
  },
  {
   "cell_type": "code",
   "execution_count": null,
   "id": "b1971f6d",
   "metadata": {},
   "outputs": [],
   "source": []
  },
  {
   "cell_type": "code",
   "execution_count": null,
   "id": "cb498320",
   "metadata": {},
   "outputs": [],
   "source": []
  }
 ],
 "metadata": {
  "kernelspec": {
   "display_name": "Python 3 (ipykernel)",
   "language": "python",
   "name": "python3"
  },
  "language_info": {
   "codemirror_mode": {
    "name": "ipython",
    "version": 3
   },
   "file_extension": ".py",
   "mimetype": "text/x-python",
   "name": "python",
   "nbconvert_exporter": "python",
   "pygments_lexer": "ipython3",
   "version": "3.11.7"
  }
 },
 "nbformat": 4,
 "nbformat_minor": 5
}
