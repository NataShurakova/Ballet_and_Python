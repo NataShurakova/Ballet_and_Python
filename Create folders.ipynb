{
 "cells": [
  {
   "cell_type": "markdown",
   "id": "4815855f-cca1-4065-b3b1-7522ceccf6a2",
   "metadata": {},
   "source": [
    "# Скрипт для создания необходимых папок и установки библиотек\n",
    "Запускать один раз."
   ]
  },
  {
   "cell_type": "code",
   "execution_count": 6,
   "id": "e066fa58-489d-47b5-b5d7-0b85441827d1",
   "metadata": {},
   "outputs": [],
   "source": [
    "import os"
   ]
  },
  {
   "cell_type": "code",
   "execution_count": 7,
   "id": "c6ff673a-45b3-4ffc-b180-11f5cfbd921b",
   "metadata": {},
   "outputs": [],
   "source": [
    "folders = ['BalletFramesBig', 'BalletFramesSmall', 'BalletMusic', \n",
    "           'BalletVideoSamples', 'excel_seqeunces', 'FromYoutube_jpeg', 'CreateBallet']"
   ]
  },
  {
   "cell_type": "code",
   "execution_count": 8,
   "id": "44acec7b-35a7-4756-afcd-c06d90acd32d",
   "metadata": {},
   "outputs": [],
   "source": [
    "for folder in folders:\n",
    "    if not os.path.isdir(folder):\n",
    "        os.mkdir(folder)    "
   ]
  },
  {
   "cell_type": "code",
   "execution_count": null,
   "id": "428b0fa4-b200-462b-a10c-c96dd84d16d0",
   "metadata": {
    "scrolled": true
   },
   "outputs": [],
   "source": [
    "!pip install numpy\n",
    "!pip install pandas\n",
    "!pip install opencv-python\n",
    "!pip install moviePy\n",
    "!pip install pillow"
   ]
  }
 ],
 "metadata": {
  "kernelspec": {
   "display_name": "Python 3 (ipykernel)",
   "language": "python",
   "name": "python3"
  },
  "language_info": {
   "codemirror_mode": {
    "name": "ipython",
    "version": 3
   },
   "file_extension": ".py",
   "mimetype": "text/x-python",
   "name": "python",
   "nbconvert_exporter": "python",
   "pygments_lexer": "ipython3",
   "version": "3.11.7"
  }
 },
 "nbformat": 4,
 "nbformat_minor": 5
}
