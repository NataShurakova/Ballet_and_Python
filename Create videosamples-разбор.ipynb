{
 "cells": [
  {
   "cell_type": "markdown",
   "id": "8adbfc3e-6bce-4033-9207-86165f1490b6",
   "metadata": {},
   "source": [
    "# Код для создания видеосэмплов отдельных балетных па\n",
    "Видеосэмплы используют для предпросмотра балетных па из Библиотеки балетных па.\n",
    "\n",
    "Видеосэмплы созданы на основе кадров (фреймов) из Библиотеки балетных па (созданной в процессе выполнения проекта)\n",
    "\n",
    "Для экономии памяти, видеосэмплы сделаны в уменьшенном формате: **256 х 144** пикселей"
   ]
  },
  {
   "cell_type": "markdown",
   "id": "f9788956-a7fb-401f-9271-ecbaa1af768a",
   "metadata": {},
   "source": [
    "## Алгоритм создания видеосэмплов\n",
    "\n",
    "1. Напишем функцию **get_frames**: для получения списка кадров, из которых состоит балетный элемент\n",
    "2. Напишем функцию **generate_video**: для генерирования видеосэмплов из списка кадров\n",
    "3. Импортируем необходимые библиотеки\n",
    "4. Загружаем excel-файл и формируем два датафрейма: **elements** и **frame_index**\n",
    "5. Изменяем размер кадров (фреймов): делаем уменьшенные копии (размера 256 на 144)\n",
    "6. Генерируем видеосэмплы и сохраняем их в соответствующие папки"
   ]
  },
  {
   "cell_type": "markdown",
   "id": "f4ce7424-7e3f-4ab4-a841-a9f4b82b47b6",
   "metadata": {},
   "source": [
    "### 1. Функция для получения списка кадров, из которых состоит балетный элемент\n",
    "\n",
    "+  создаем функцию get_frames, которая по индентификатору балетного элемента (id_element) выдает список фреймов (кадров), из которых состоит балетный элемент\n",
    "\n",
    "**id_element** состоит из трех частей: `Элемент_Балет_Num`\n",
    "+ название элемента\n",
    "+  название балета (балетного номера)\n",
    "+ порядковый номер этого элемента в этом балетном номере среди аналогичных элементов"
   ]
  },
  {
   "cell_type": "code",
   "execution_count": 93,
   "id": "a4419194-627c-4fdd-906f-0b8ef0420c44",
   "metadata": {},
   "outputs": [],
   "source": [
    "def get_frames(id_element):\n",
    "    \"\"\"\n",
    "    Функция для получения списка кадров (названия jpg файлов), из которых состоит балетный элемент.\n",
    "\n",
    "    Параметры:\n",
    "    -----------\n",
    "    id_element: str\n",
    "        Название балетного элемента в формате \"Элемент_Балет_Номер\"\n",
    "\n",
    "    \"\"\"\n",
    "    # определяем название первого кадра, из которого состоит конкретный балетный элемент\n",
    "    first_frame = elements[elements['id_element'] == id_element]['Begin'].values[0]\n",
    "\n",
    "    # добавляем к названию тип файла (расширение)\n",
    "    first_frame_jpg = first_frame + '.jpg'\n",
    "\n",
    "    # определяем название последнего кадра, из которого состоит конкретный балетный элемент\n",
    "    last_frame = elements[elements['id_element'] == id_element]['End'].values[0]\n",
    "    last_frame_jpg = last_frame + \".jpg\"\n",
    "\n",
    "    # индекс первого кадра\n",
    "    index_begin = frame_index[frame_index['frames']==first_frame_jpg].index[0]\n",
    "\n",
    "    # индекс последнего кадра\n",
    "    index_end = frame_index[frame_index['frames']==last_frame_jpg].index[0]\n",
    "\n",
    "    # формируем список из индексов кадров\n",
    "    # в список входит индекс первого кадра, последнего кадра и всех промежуточных кадров\n",
    "    frames_list = list(range(index_begin, index_end))\n",
    "\n",
    "    # по списку из индексов отбираем названия кадров, которые формируют наш id_element\n",
    "    frames = frame_index[frame_index.index.isin(list(range(index_begin, index_end+1)))]\n",
    "\n",
    "    # формируем список из кадров, которые относятся к данному элементу\n",
    "    pictures = list(frame_index[frame_index.index.isin(list(range(index_begin,index_end)))]['frames'])\n",
    "\n",
    "    return pictures\n"
   ]
  },
  {
   "cell_type": "markdown",
   "id": "cfe76d73-6f50-4437-8934-1a2639aa1f4b",
   "metadata": {},
   "source": [
    "#### Разбор функции get_frames"
   ]
  },
  {
   "cell_type": "code",
   "execution_count": 94,
   "id": "0498c6aa-4f12-4b8d-ad25-497e8390fc18",
   "metadata": {},
   "outputs": [
    {
     "data": {
      "text/plain": [
       "'Arabesque_Baryshnikov_1'"
      ]
     },
     "execution_count": 94,
     "metadata": {},
     "output_type": "execute_result"
    }
   ],
   "source": [
    "# Берем произвольный id_element и ищем строку в датафрейме elements, в которой он содержится\n",
    "id_element = \"Arabesque_Baryshnikov_1\"\n",
    "id_element"
   ]
  },
  {
   "cell_type": "code",
   "execution_count": 95,
   "id": "a3c77b45-2fb7-4161-b924-4659ce776fa1",
   "metadata": {},
   "outputs": [
    {
     "data": {
      "text/plain": [
       "0          A la seconde_Baryshnikov_1\n",
       "1          A la seconde_Baryshnikov_2\n",
       "2          A la seconde_Baryshnikov_3\n",
       "3      A la seconde_Sleeping Beauty_1\n",
       "4             Arabesque_Baryshnikov_1\n",
       "                    ...              \n",
       "403                Фуэте_Black Swan_1\n",
       "404                Фуэте_Black Swan_2\n",
       "405                 Фуэте_Fei Draze_1\n",
       "406                 Фуэте_Fei Draze_2\n",
       "407                 Фуэте_Fei Draze_3\n",
       "Name: id_element, Length: 408, dtype: object"
      ]
     },
     "execution_count": 95,
     "metadata": {},
     "output_type": "execute_result"
    }
   ],
   "source": [
    "# Строка id_element из датафрейма elements\n",
    "elements['id_element']"
   ]
  },
  {
   "cell_type": "code",
   "execution_count": 96,
   "id": "be3417a7-1ee1-4b25-9357-0ce15d6bc2a0",
   "metadata": {},
   "outputs": [
    {
     "data": {
      "text/plain": [
       "0      False\n",
       "1      False\n",
       "2      False\n",
       "3      False\n",
       "4       True\n",
       "       ...  \n",
       "403    False\n",
       "404    False\n",
       "405    False\n",
       "406    False\n",
       "407    False\n",
       "Name: id_element, Length: 408, dtype: bool"
      ]
     },
     "execution_count": 96,
     "metadata": {},
     "output_type": "execute_result"
    }
   ],
   "source": [
    "# Буллева маска: значение True в той строке, в которой содержится наш id_element\n",
    "elements['id_element'] == id_element"
   ]
  },
  {
   "cell_type": "code",
   "execution_count": 97,
   "id": "d5d53e4b-c434-4603-9ad4-3b3d8f8fe3a7",
   "metadata": {},
   "outputs": [
    {
     "data": {
      "text/html": [
       "<div>\n",
       "<style scoped>\n",
       "    .dataframe tbody tr th:only-of-type {\n",
       "        vertical-align: middle;\n",
       "    }\n",
       "\n",
       "    .dataframe tbody tr th {\n",
       "        vertical-align: top;\n",
       "    }\n",
       "\n",
       "    .dataframe thead th {\n",
       "        text-align: right;\n",
       "    }\n",
       "</style>\n",
       "<table border=\"1\" class=\"dataframe\">\n",
       "  <thead>\n",
       "    <tr style=\"text-align: right;\">\n",
       "      <th></th>\n",
       "      <th>Begin</th>\n",
       "      <th>End</th>\n",
       "      <th>id_element</th>\n",
       "      <th>Элемент</th>\n",
       "      <th>Балет</th>\n",
       "      <th>NN</th>\n",
       "      <th>Num_Frames</th>\n",
       "      <th>Begin_Элемента</th>\n",
       "      <th>End_Элемента</th>\n",
       "    </tr>\n",
       "  </thead>\n",
       "  <tbody>\n",
       "    <tr>\n",
       "      <th>4</th>\n",
       "      <td>Baryshnikov_0-00-05.16</td>\n",
       "      <td>Baryshnikov_0-00-06.20</td>\n",
       "      <td>Arabesque_Baryshnikov_1</td>\n",
       "      <td>Arabesque</td>\n",
       "      <td>Baryshnikov</td>\n",
       "      <td>1</td>\n",
       "      <td>27</td>\n",
       "      <td>Baryshnikov_0-00-05.16</td>\n",
       "      <td>Baryshnikov_0-00-06.20</td>\n",
       "    </tr>\n",
       "  </tbody>\n",
       "</table>\n",
       "</div>"
      ],
      "text/plain": [
       "                    Begin                     End               id_element  \\\n",
       "4  Baryshnikov_0-00-05.16  Baryshnikov_0-00-06.20  Arabesque_Baryshnikov_1   \n",
       "\n",
       "     Элемент        Балет  NN  Num_Frames          Begin_Элемента  \\\n",
       "4  Arabesque  Baryshnikov   1          27  Baryshnikov_0-00-05.16   \n",
       "\n",
       "             End_Элемента  \n",
       "4  Baryshnikov_0-00-06.20  "
      ]
     },
     "execution_count": 97,
     "metadata": {},
     "output_type": "execute_result"
    }
   ],
   "source": [
    "# Применяем буллеву маску к датафрэйму elements, получаем строку, в которой содержится наш id_element\n",
    "elements[elements['id_element'] == id_element]"
   ]
  },
  {
   "cell_type": "code",
   "execution_count": 98,
   "id": "86111ae7-7cbf-409c-84dd-b5ff68a0b59c",
   "metadata": {},
   "outputs": [
    {
     "data": {
      "text/plain": [
       "'Baryshnikov_0-00-05.16'"
      ]
     },
     "execution_count": 98,
     "metadata": {},
     "output_type": "execute_result"
    }
   ],
   "source": [
    "# Из полученной строки вытаскиваем значение из столбца Begin, это - имя первого кадра нашего балетного элемента\n",
    "first_frame = elements[elements['id_element'] == id_element]['Begin'].values[0]\n",
    "first_frame"
   ]
  },
  {
   "cell_type": "code",
   "execution_count": 99,
   "id": "14035985-6d9e-4c7d-b7cf-d74b0e2c26e8",
   "metadata": {},
   "outputs": [
    {
     "data": {
      "text/plain": [
       "'Baryshnikov_0-00-05.16.jpg'"
      ]
     },
     "execution_count": 99,
     "metadata": {},
     "output_type": "execute_result"
    }
   ],
   "source": [
    "# К имени кадра добавим расширение .jpg - получим название файла с картинкой\n",
    "first_frame_jpg = first_frame + '.jpg'\n",
    "first_frame_jpg"
   ]
  },
  {
   "cell_type": "code",
   "execution_count": 100,
   "id": "c001ae07-96e0-4cd2-a575-fb8787fc874e",
   "metadata": {},
   "outputs": [
    {
     "data": {
      "text/plain": [
       "'Baryshnikov_0-00-06.20.jpg'"
      ]
     },
     "execution_count": 100,
     "metadata": {},
     "output_type": "execute_result"
    }
   ],
   "source": [
    "# Аналогично узнаем название файла с последним кадром для данного балетного элемента\n",
    "last_frame = elements[elements['id_element'] == id_element]['End'].values[0]\n",
    "last_frame_jpg = last_frame + \".jpg\"\n",
    "last_frame_jpg"
   ]
  },
  {
   "cell_type": "code",
   "execution_count": 101,
   "id": "2e28979d-39fd-44a6-8769-7e87cafe1965",
   "metadata": {},
   "outputs": [
    {
     "data": {
      "text/plain": [
       "index\n",
       "0            Baryshnikov_0-00-00.00.jpg\n",
       "1            Baryshnikov_0-00-00.04.jpg\n",
       "2            Baryshnikov_0-00-00.08.jpg\n",
       "3            Baryshnikov_0-00-00.12.jpg\n",
       "4            Baryshnikov_0-00-00.16.jpg\n",
       "                      ...              \n",
       "44211    Tanec Fei Draze_0-03-30.47.jpg\n",
       "44212    Tanec Fei Draze_0-03-30.50.jpg\n",
       "44213    Tanec Fei Draze_0-03-30.53.jpg\n",
       "44214    Tanec Fei Draze_0-03-30.57.jpg\n",
       "44215    Tanec Fei Draze_0-03-30.60.jpg\n",
       "Name: frames, Length: 44216, dtype: object"
      ]
     },
     "execution_count": 101,
     "metadata": {},
     "output_type": "execute_result"
    }
   ],
   "source": [
    "# переходим к датафрейму frame_index\n",
    "# в этом датафрейме содержится список всех кадров из всех используемых балетных номеров (44 тысячи кадров) и уникальные индексы - взаимооднозначные\n",
    "# т.е. каждому индексу соответствует только один кадр \n",
    "# и у каждого кадра только один индекс\n",
    "# и, зная значение индекса, мы можем получить имя соответствующего кадра.\n",
    "frame_index['frames']"
   ]
  },
  {
   "cell_type": "code",
   "execution_count": 102,
   "id": "6e35b2f9-b8e8-47ec-b0bf-3db03784fb74",
   "metadata": {},
   "outputs": [
    {
     "data": {
      "text/plain": [
       "index\n",
       "0        False\n",
       "1        False\n",
       "2        False\n",
       "3        False\n",
       "4        False\n",
       "         ...  \n",
       "44211    False\n",
       "44212    False\n",
       "44213    False\n",
       "44214    False\n",
       "44215    False\n",
       "Name: frames, Length: 44216, dtype: bool"
      ]
     },
     "execution_count": 102,
     "metadata": {},
     "output_type": "execute_result"
    }
   ],
   "source": [
    "# применяем буллеву маску: сравниваем значение в столбце frames с именем первого кадра балетного элемента\n",
    "# мы получим везде False, кроме одной ячейки (в которой будет True) - в этой ячейке находится имя первого кадра, нас интересует индекс этой ячейки.\n",
    "frame_index['frames'] == first_frame_jpg"
   ]
  },
  {
   "cell_type": "code",
   "execution_count": 103,
   "id": "3256c545-09ed-443c-958c-6de72bb9f4bf",
   "metadata": {},
   "outputs": [
    {
     "data": {
      "text/html": [
       "<div>\n",
       "<style scoped>\n",
       "    .dataframe tbody tr th:only-of-type {\n",
       "        vertical-align: middle;\n",
       "    }\n",
       "\n",
       "    .dataframe tbody tr th {\n",
       "        vertical-align: top;\n",
       "    }\n",
       "\n",
       "    .dataframe thead th {\n",
       "        text-align: right;\n",
       "    }\n",
       "</style>\n",
       "<table border=\"1\" class=\"dataframe\">\n",
       "  <thead>\n",
       "    <tr style=\"text-align: right;\">\n",
       "      <th></th>\n",
       "      <th>frames</th>\n",
       "    </tr>\n",
       "    <tr>\n",
       "      <th>index</th>\n",
       "      <th></th>\n",
       "    </tr>\n",
       "  </thead>\n",
       "  <tbody>\n",
       "    <tr>\n",
       "      <th>129</th>\n",
       "      <td>Baryshnikov_0-00-05.16.jpg</td>\n",
       "    </tr>\n",
       "  </tbody>\n",
       "</table>\n",
       "</div>"
      ],
      "text/plain": [
       "                           frames\n",
       "index                            \n",
       "129    Baryshnikov_0-00-05.16.jpg"
      ]
     },
     "execution_count": 103,
     "metadata": {},
     "output_type": "execute_result"
    }
   ],
   "source": [
    "# применяем буллеву маску и получаем строку с именем первого кадра\n",
    "frame_index[frame_index['frames'] == first_frame_jpg]"
   ]
  },
  {
   "cell_type": "code",
   "execution_count": 104,
   "id": "94294681-4663-49b9-9f33-132d74ce4fdd",
   "metadata": {},
   "outputs": [
    {
     "data": {
      "text/plain": [
       "129"
      ]
     },
     "execution_count": 104,
     "metadata": {},
     "output_type": "execute_result"
    }
   ],
   "source": [
    "# получаем индекс строки с именем первого кадра\n",
    "index_begin = frame_index[frame_index['frames'] == first_frame_jpg].index[0]\n",
    "index_begin"
   ]
  },
  {
   "cell_type": "code",
   "execution_count": 105,
   "id": "463b0e9d-dc9b-401e-9352-5731d92d231d",
   "metadata": {},
   "outputs": [
    {
     "data": {
      "text/plain": [
       "155"
      ]
     },
     "execution_count": 105,
     "metadata": {},
     "output_type": "execute_result"
    }
   ],
   "source": [
    "# аналогично, полуаем индекс для последнего кадра\n",
    "frame_index[frame_index['frames'] == last_frame_jpg]\n",
    "index_end = frame_index[frame_index['frames'] == last_frame_jpg].index[0]\n",
    "index_end"
   ]
  },
  {
   "cell_type": "code",
   "execution_count": 106,
   "id": "c719b12f-8af6-48c2-86b1-134c07b6112f",
   "metadata": {},
   "outputs": [
    {
     "data": {
      "text/plain": [
       "[129,\n",
       " 130,\n",
       " 131,\n",
       " 132,\n",
       " 133,\n",
       " 134,\n",
       " 135,\n",
       " 136,\n",
       " 137,\n",
       " 138,\n",
       " 139,\n",
       " 140,\n",
       " 141,\n",
       " 142,\n",
       " 143,\n",
       " 144,\n",
       " 145,\n",
       " 146,\n",
       " 147,\n",
       " 148,\n",
       " 149,\n",
       " 150,\n",
       " 151,\n",
       " 152,\n",
       " 153,\n",
       " 154,\n",
       " 155]"
      ]
     },
     "execution_count": 106,
     "metadata": {},
     "output_type": "execute_result"
    }
   ],
   "source": [
    "# используем генератор списков range для получения индексов промежуточных кадров\n",
    "# так как генератор списка не использует последнее значение диапазона, то, чтобы не потерять индекс последнего кадра, мы увеличим его на 1\n",
    "# в итоге получаем список, в котором есть индекс первого кадра, индекс последнего кадра и индексы всех промежуточных кадров\n",
    "frames_list = list(range(index_begin,index_end+1))\n",
    "frames_list"
   ]
  },
  {
   "cell_type": "code",
   "execution_count": 107,
   "id": "8dee6200-ce2b-47f4-aac8-c18ec8fb6ba5",
   "metadata": {},
   "outputs": [
    {
     "data": {
      "text/plain": [
       "array([False, False, False, ..., False, False, False])"
      ]
     },
     "execution_count": 107,
     "metadata": {},
     "output_type": "execute_result"
    }
   ],
   "source": [
    "# буллева маска - по списку из индексов отбираем названия кадров, которые формируют наш id_element\n",
    "frame_index.index.isin(list(range(index_begin,index_end)))"
   ]
  },
  {
   "cell_type": "code",
   "execution_count": 108,
   "id": "ca8d6f0b-adba-45c8-accf-982d41f76e49",
   "metadata": {},
   "outputs": [
    {
     "data": {
      "text/plain": [
       "['Baryshnikov_0-00-05.16.jpg',\n",
       " 'Baryshnikov_0-00-05.20.jpg',\n",
       " 'Baryshnikov_0-00-05.24.jpg',\n",
       " 'Baryshnikov_0-00-05.28.jpg',\n",
       " 'Baryshnikov_0-00-05.32.jpg',\n",
       " 'Baryshnikov_0-00-05.36.jpg',\n",
       " 'Baryshnikov_0-00-05.40.jpg',\n",
       " 'Baryshnikov_0-00-05.44.jpg',\n",
       " 'Baryshnikov_0-00-05.48.jpg',\n",
       " 'Baryshnikov_0-00-05.52.jpg',\n",
       " 'Baryshnikov_0-00-05.56.jpg',\n",
       " 'Baryshnikov_0-00-05.60.jpg',\n",
       " 'Baryshnikov_0-00-05.64.jpg',\n",
       " 'Baryshnikov_0-00-05.68.jpg',\n",
       " 'Baryshnikov_0-00-05.72.jpg',\n",
       " 'Baryshnikov_0-00-05.76.jpg',\n",
       " 'Baryshnikov_0-00-05.80.jpg',\n",
       " 'Baryshnikov_0-00-05.84.jpg',\n",
       " 'Baryshnikov_0-00-05.88.jpg',\n",
       " 'Baryshnikov_0-00-05.92.jpg',\n",
       " 'Baryshnikov_0-00-05.96.jpg',\n",
       " 'Baryshnikov_0-00-06.00.jpg',\n",
       " 'Baryshnikov_0-00-06.04.jpg',\n",
       " 'Baryshnikov_0-00-06.08.jpg',\n",
       " 'Baryshnikov_0-00-06.12.jpg',\n",
       " 'Baryshnikov_0-00-06.16.jpg']"
      ]
     },
     "execution_count": 108,
     "metadata": {},
     "output_type": "execute_result"
    }
   ],
   "source": [
    "# с помощью буллевой маски отбираем те кадры, которые формируют наш балетный элемент\n",
    "list(frame_index[frame_index.index.isin(list(range(index_begin,index_end)))]['frames'])"
   ]
  },
  {
   "cell_type": "markdown",
   "id": "551ca24d-0405-48d6-9d18-8636de47a8bb",
   "metadata": {},
   "source": [
    "### 2. Функция для генерирования видеосэмплов из списка кадров\n",
    "+ создаем функцию generate_video, которая генерирует видеофайл из набора (списка) фреймов (кадров): для каждого балетного элемента свой видеофайл "
   ]
  },
  {
   "cell_type": "code",
   "execution_count": 109,
   "id": "9c32aa64-b561-4128-95d0-2a267c405403",
   "metadata": {},
   "outputs": [],
   "source": [
    "def generate_video(id_element, samples_folder, image_folder):\n",
    "    \"\"\"\n",
    "    Функция для генерирования видеосэмплов из списка кадров.\n",
    "    По умолчанию формат видео: 256 на 144\n",
    "\n",
    "    Параметры:\n",
    "    + id_element: string,\n",
    "        Идентификатор балетного элемента\n",
    "    + samples_folder: string\n",
    "        Папка, в которую сохраняются видеосэмплы\n",
    "    + image_folder: string\n",
    "        Папка с кадрами (уменьшенными)\n",
    "\n",
    "    \"\"\"\n",
    "    width=256\n",
    "    height=144\n",
    "    print(f'{id_element} sample ')\n",
    "\n",
    "    # указываем, как будут называться файлы-видеосэмплы\n",
    "    video_name = os.path.join(samples_folder, f'{id_element}.avi')\n",
    "\n",
    "    # применяем нашу функцию get_frames\n",
    "    # получаем список кадров, которые формируют конкретный балетный элемент\n",
    "    images = get_frames(id_element)\n",
    "\n",
    "    # создаем экземпляр VideoWriter\n",
    "    # указываем параметры: название файла, кодек по умолчанию, частота кадров (25),\n",
    "    video = cv2.VideoWriter(video_name, 0, 25, (width, height))\n",
    "\n",
    "    # генерируем видео последовательно, добавляя кадры из нашего списка\n",
    "    for image in images:\n",
    "        video.write(cv2.imread(os.path.join(image_folder, image)))\n",
    "\n",
    "    # Очищаем память\n",
    "    cv2.destroyAllWindows()\n",
    "    video.release()\n",
    "\n"
   ]
  },
  {
   "cell_type": "markdown",
   "id": "0f3c3c45-c238-46ad-bd79-8190c4ed7783",
   "metadata": {},
   "source": [
    "## Создание видео"
   ]
  },
  {
   "cell_type": "markdown",
   "id": "1b44ac56-4a5e-4ffd-b67b-c05cb1aeed02",
   "metadata": {},
   "source": [
    "### 3. Импортируем необходимые библиотеки"
   ]
  },
  {
   "cell_type": "code",
   "execution_count": 110,
   "id": "a9a396b3-3d08-4d35-a1b2-0b1e1b1a01aa",
   "metadata": {},
   "outputs": [],
   "source": [
    "import pandas as pd # пандас - библиотека для обработки excel файлов\n",
    "import cv2 # open cv - библиотека для получения видео из набора кадров (фреймов)\n",
    "import os # библиотека для работы с именами файлов и их расположением\n",
    "\n",
    "from PIL import Image # для изменения размера кадров"
   ]
  },
  {
   "cell_type": "markdown",
   "id": "d46493b6-0329-49a0-a6b8-cf7c0fa380bd",
   "metadata": {},
   "source": [
    "### 4. Загружаем excel-файл и формируем два датафрейма"
   ]
  },
  {
   "cell_type": "code",
   "execution_count": 111,
   "id": "390ae497-0c60-4e44-8a5a-17e3b50ddb12",
   "metadata": {},
   "outputs": [],
   "source": [
    "# загружаем датафреймы\n",
    "file = \"Create_Ballet_v1.02.xlsx\"\n",
    "\n",
    "elements = pd.read_excel(file, \n",
    "                         sheet_name=\"Элементы_экземпляры_кадры\",\n",
    "                        header=0)"
   ]
  },
  {
   "cell_type": "code",
   "execution_count": 112,
   "id": "a0c778ca-7b7e-48fd-8c12-ce501498785c",
   "metadata": {},
   "outputs": [
    {
     "data": {
      "text/html": [
       "<div>\n",
       "<style scoped>\n",
       "    .dataframe tbody tr th:only-of-type {\n",
       "        vertical-align: middle;\n",
       "    }\n",
       "\n",
       "    .dataframe tbody tr th {\n",
       "        vertical-align: top;\n",
       "    }\n",
       "\n",
       "    .dataframe thead th {\n",
       "        text-align: right;\n",
       "    }\n",
       "</style>\n",
       "<table border=\"1\" class=\"dataframe\">\n",
       "  <thead>\n",
       "    <tr style=\"text-align: right;\">\n",
       "      <th></th>\n",
       "      <th>Begin</th>\n",
       "      <th>End</th>\n",
       "      <th>id_element</th>\n",
       "      <th>Элемент</th>\n",
       "      <th>Балет</th>\n",
       "      <th>NN</th>\n",
       "      <th>Num_Frames</th>\n",
       "      <th>Begin_Элемента</th>\n",
       "      <th>End_Элемента</th>\n",
       "    </tr>\n",
       "  </thead>\n",
       "  <tbody>\n",
       "    <tr>\n",
       "      <th>0</th>\n",
       "      <td>Baryshnikov_0-00-42.28</td>\n",
       "      <td>Baryshnikov_0-00-43.04</td>\n",
       "      <td>A la seconde_Baryshnikov_1</td>\n",
       "      <td>A la seconde</td>\n",
       "      <td>Baryshnikov</td>\n",
       "      <td>1</td>\n",
       "      <td>20</td>\n",
       "      <td>Baryshnikov_0-00-42.28</td>\n",
       "      <td>Baryshnikov_0-00-43.04</td>\n",
       "    </tr>\n",
       "    <tr>\n",
       "      <th>1</th>\n",
       "      <td>Baryshnikov_0-00-46.56</td>\n",
       "      <td>Baryshnikov_0-00-47.08</td>\n",
       "      <td>A la seconde_Baryshnikov_2</td>\n",
       "      <td>A la seconde</td>\n",
       "      <td>Baryshnikov</td>\n",
       "      <td>2</td>\n",
       "      <td>14</td>\n",
       "      <td>Baryshnikov_0-00-46.56</td>\n",
       "      <td>Baryshnikov_0-00-47.08</td>\n",
       "    </tr>\n",
       "    <tr>\n",
       "      <th>2</th>\n",
       "      <td>Baryshnikov_0-00-50.52</td>\n",
       "      <td>Baryshnikov_0-00-51.12</td>\n",
       "      <td>A la seconde_Baryshnikov_3</td>\n",
       "      <td>A la seconde</td>\n",
       "      <td>Baryshnikov</td>\n",
       "      <td>3</td>\n",
       "      <td>16</td>\n",
       "      <td>Baryshnikov_0-00-50.52</td>\n",
       "      <td>Baryshnikov_0-00-51.12</td>\n",
       "    </tr>\n",
       "    <tr>\n",
       "      <th>3</th>\n",
       "      <td>Sleeping Beauty_0-00-52.12</td>\n",
       "      <td>Sleeping Beauty_0-00-56.52</td>\n",
       "      <td>A la seconde_Sleeping Beauty_1</td>\n",
       "      <td>A la seconde</td>\n",
       "      <td>Sleeping Beauty</td>\n",
       "      <td>1</td>\n",
       "      <td>111</td>\n",
       "      <td>Sleeping Beauty_0-00-52.12</td>\n",
       "      <td>Sleeping Beauty_0-00-56.52</td>\n",
       "    </tr>\n",
       "    <tr>\n",
       "      <th>4</th>\n",
       "      <td>Baryshnikov_0-00-05.16</td>\n",
       "      <td>Baryshnikov_0-00-06.20</td>\n",
       "      <td>Arabesque_Baryshnikov_1</td>\n",
       "      <td>Arabesque</td>\n",
       "      <td>Baryshnikov</td>\n",
       "      <td>1</td>\n",
       "      <td>27</td>\n",
       "      <td>Baryshnikov_0-00-05.16</td>\n",
       "      <td>Baryshnikov_0-00-06.20</td>\n",
       "    </tr>\n",
       "  </tbody>\n",
       "</table>\n",
       "</div>"
      ],
      "text/plain": [
       "                        Begin                         End  \\\n",
       "0      Baryshnikov_0-00-42.28      Baryshnikov_0-00-43.04   \n",
       "1      Baryshnikov_0-00-46.56      Baryshnikov_0-00-47.08   \n",
       "2      Baryshnikov_0-00-50.52      Baryshnikov_0-00-51.12   \n",
       "3  Sleeping Beauty_0-00-52.12  Sleeping Beauty_0-00-56.52   \n",
       "4      Baryshnikov_0-00-05.16      Baryshnikov_0-00-06.20   \n",
       "\n",
       "                       id_element       Элемент            Балет  NN  \\\n",
       "0      A la seconde_Baryshnikov_1  A la seconde      Baryshnikov   1   \n",
       "1      A la seconde_Baryshnikov_2  A la seconde      Baryshnikov   2   \n",
       "2      A la seconde_Baryshnikov_3  A la seconde      Baryshnikov   3   \n",
       "3  A la seconde_Sleeping Beauty_1  A la seconde  Sleeping Beauty   1   \n",
       "4         Arabesque_Baryshnikov_1     Arabesque      Baryshnikov   1   \n",
       "\n",
       "   Num_Frames              Begin_Элемента                End_Элемента  \n",
       "0          20      Baryshnikov_0-00-42.28      Baryshnikov_0-00-43.04  \n",
       "1          14      Baryshnikov_0-00-46.56      Baryshnikov_0-00-47.08  \n",
       "2          16      Baryshnikov_0-00-50.52      Baryshnikov_0-00-51.12  \n",
       "3         111  Sleeping Beauty_0-00-52.12  Sleeping Beauty_0-00-56.52  \n",
       "4          27      Baryshnikov_0-00-05.16      Baryshnikov_0-00-06.20  "
      ]
     },
     "execution_count": 112,
     "metadata": {},
     "output_type": "execute_result"
    }
   ],
   "source": [
    "# смотрим первые 5 строк\n",
    "elements.head()"
   ]
  },
  {
   "cell_type": "code",
   "execution_count": 113,
   "id": "619d49c5-2320-40f8-ac33-5ec0073e0626",
   "metadata": {},
   "outputs": [
    {
     "data": {
      "text/html": [
       "<div>\n",
       "<style scoped>\n",
       "    .dataframe tbody tr th:only-of-type {\n",
       "        vertical-align: middle;\n",
       "    }\n",
       "\n",
       "    .dataframe tbody tr th {\n",
       "        vertical-align: top;\n",
       "    }\n",
       "\n",
       "    .dataframe thead th {\n",
       "        text-align: right;\n",
       "    }\n",
       "</style>\n",
       "<table border=\"1\" class=\"dataframe\">\n",
       "  <thead>\n",
       "    <tr style=\"text-align: right;\">\n",
       "      <th></th>\n",
       "      <th>frames</th>\n",
       "    </tr>\n",
       "    <tr>\n",
       "      <th>index</th>\n",
       "      <th></th>\n",
       "    </tr>\n",
       "  </thead>\n",
       "  <tbody>\n",
       "    <tr>\n",
       "      <th>0</th>\n",
       "      <td>Baryshnikov_0-00-00.00.jpg</td>\n",
       "    </tr>\n",
       "    <tr>\n",
       "      <th>1</th>\n",
       "      <td>Baryshnikov_0-00-00.04.jpg</td>\n",
       "    </tr>\n",
       "    <tr>\n",
       "      <th>2</th>\n",
       "      <td>Baryshnikov_0-00-00.08.jpg</td>\n",
       "    </tr>\n",
       "    <tr>\n",
       "      <th>3</th>\n",
       "      <td>Baryshnikov_0-00-00.12.jpg</td>\n",
       "    </tr>\n",
       "    <tr>\n",
       "      <th>4</th>\n",
       "      <td>Baryshnikov_0-00-00.16.jpg</td>\n",
       "    </tr>\n",
       "  </tbody>\n",
       "</table>\n",
       "</div>"
      ],
      "text/plain": [
       "                           frames\n",
       "index                            \n",
       "0      Baryshnikov_0-00-00.00.jpg\n",
       "1      Baryshnikov_0-00-00.04.jpg\n",
       "2      Baryshnikov_0-00-00.08.jpg\n",
       "3      Baryshnikov_0-00-00.12.jpg\n",
       "4      Baryshnikov_0-00-00.16.jpg"
      ]
     },
     "execution_count": 113,
     "metadata": {},
     "output_type": "execute_result"
    }
   ],
   "source": [
    "frame_index = pd.read_excel(file, \n",
    "                            sheet_name=\"кадры_индексы\",\n",
    "                            index_col=0,\n",
    "                            usecols=['index', 'frames'])\n",
    "frame_index.head()"
   ]
  },
  {
   "cell_type": "markdown",
   "id": "8085f27e-ccdb-4f3d-8709-8eeb70be7782",
   "metadata": {},
   "source": [
    "### 5. Изменяем размер кадров (фреймов): делаем уменьшенные копии (размера 256 на 144)"
   ]
  },
  {
   "cell_type": "code",
   "execution_count": 114,
   "id": "8edaa42a-8a01-4604-b9b4-5d6c17e00c12",
   "metadata": {},
   "outputs": [],
   "source": [
    "folder_frames_big = 'BalletFramesBig'\n",
    "folder_frames_small = 'BalletFramesSmall'"
   ]
  },
  {
   "cell_type": "code",
   "execution_count": 115,
   "id": "e9934b60-9728-4b38-81f7-aa883b91a672",
   "metadata": {},
   "outputs": [],
   "source": [
    "width = 256\n",
    "height = 144"
   ]
  },
  {
   "cell_type": "raw",
   "id": "c62fa78d-191e-41bb-a184-a540122ff1ca",
   "metadata": {
    "scrolled": true
   },
   "source": [
    "# пробегаем все кадры размера 1280 на 720 - они расположены в папке BalletFramesBig\n",
    "for file in os.listdir(folder_frames_big):\n",
    "    # отбираем только кадры (картинки): файлы с расширением jpg или jpeg\n",
    "    if file.endswith(\".jpg\") or file.endswith(\".jpeg\"):\n",
    "        \n",
    "        # поочередно открываем кадры, используя библиотеку PIL Image\n",
    "        im = Image.open(os.path.join(folder_frames_big, file))\n",
    "        \n",
    "        # изменяем размер кадра\n",
    "        imResize = im.resize((width, height), Image.ANTIALIAS)\n",
    "\n",
    "        # сохраняем уменьшенные кадры в папку BalletFramesSmall\n",
    "        imResize.save(os.path.join(folder_frames_small, file), 'JPEG', quality = 95)\n",
    "print('done')  "
   ]
  },
  {
   "cell_type": "markdown",
   "id": "9701b8a5-cd14-4dff-b248-de2bd772d941",
   "metadata": {},
   "source": [
    "### 6. Генерируем видеосэмплы и сохраняем их в соответствующие (дочерние) папки"
   ]
  },
  {
   "cell_type": "code",
   "execution_count": 116,
   "id": "0dea5500-521e-47c7-8f3d-16b9e7878bdf",
   "metadata": {},
   "outputs": [
    {
     "ename": "SyntaxError",
     "evalue": "incomplete input (1343978595.py, line 5)",
     "output_type": "error",
     "traceback": [
      "\u001b[1;36m  Cell \u001b[1;32mIn[116], line 5\u001b[1;36m\u001b[0m\n\u001b[1;33m    for idx in elements.index:\u001b[0m\n\u001b[1;37m                              ^\u001b[0m\n\u001b[1;31mSyntaxError\u001b[0m\u001b[1;31m:\u001b[0m incomplete input\n"
     ]
    }
   ],
   "source": [
    "# Основная (родительская) папка для видеосэмплов\n",
    "folder_parent = \"BalletVideoSamples\"\n",
    "\n",
    "# перебираем все строки (балетные элементы) в датафрейме elements\n",
    "for idx in elements.index:\n",
    "\n",
    "    # название дочерних папок - папок для каждой группы элементов\n",
    "    # эти папки находятся внутри родительской папки \"BalletVideoSamples\"\n",
    "    folder_element = os.path.join(folder_parent,\n",
    "                                  elements.loc[idx, 'Элемент'])\n",
    "\n",
    "    # проверяем наличие дочерней папки (папки для отдельной группы элементов)\n",
    "    # если дочерней папки не существует внутри родительской - то создаем её\n",
    "    if not os.path.isdir(folder_element):\n",
    "        os.mkdir(folder_element)\n",
    "\n",
    "    # создаем видеосэмплы с помощью нашей функции generate_video\n",
    "    # каждый видеосэмпл сохраняем в соответствующую дочернюю папку\n",
    "    id_element = elements.loc[idx, 'id_element']\n",
    "    generate_video(id_element, folder_element, folder_frames_small)\n",
    "\n",
    "print('Готово!')"
   ]
  },
  {
   "cell_type": "code",
   "execution_count": null,
   "id": "5c7fc95d-b2b2-4d91-829a-ca47d095abdb",
   "metadata": {},
   "outputs": [],
   "source": []
  }
 ],
 "metadata": {
  "kernelspec": {
   "display_name": "Python 3 (ipykernel)",
   "language": "python",
   "name": "python3"
  },
  "language_info": {
   "codemirror_mode": {
    "name": "ipython",
    "version": 3
   },
   "file_extension": ".py",
   "mimetype": "text/x-python",
   "name": "python",
   "nbconvert_exporter": "python",
   "pygments_lexer": "ipython3",
   "version": "3.11.7"
  }
 },
 "nbformat": 4,
 "nbformat_minor": 5
}
