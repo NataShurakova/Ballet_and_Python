{
 "cells": [
  {
   "cell_type": "markdown",
   "id": "edaa8b3c",
   "metadata": {},
   "source": [
    "## Для создания балетного видео  и прикрепления аудиодорожки\n",
    "\n",
    "За основу взят код из статьи:\n",
    "+ Python | Create video using multiple images using OpenCV \n",
    "+ https://www.geeksforgeeks.org/python-create-video-using-multiple-images-using-opencv/\n",
    "\n",
    "Алгоритм:\n",
    "+ указываем имя листа в файле `Create_Ballet_v1.3.xlsx` (конструктор балетного номера)\n",
    "+ сохраняем аудиофайл в папку `BalletMusic`\n",
    "+ указываем имя аудиофайла\n",
    "+ функция create_ballet принимает на вход:\n",
    "    + ballet_images, image_folder,  video_name, output_folder, audio_file\n",
    "    + создает временный файл формата avi\n",
    "    + прикрепляет к нему аудиодорожку\n",
    "    + создает финальный файл формата mp4\n",
    "    + удаляет временный файл avi"
   ]
  },
  {
   "cell_type": "markdown",
   "id": "921cf263",
   "metadata": {},
   "source": [
    "## Указываем имя листа и название аудиофайла"
   ]
  },
  {
   "cell_type": "code",
   "execution_count": 6,
   "id": "307c127f",
   "metadata": {},
   "outputs": [],
   "source": [
    "sheet = 'Кукушка' # лист в файле r'Create_Ballet_v1.3.xlsx'\n",
    "audio_name = 'Кукушка.mp3' # название аудиофайла\n"
   ]
  },
  {
   "cell_type": "markdown",
   "id": "3dc383ad",
   "metadata": {},
   "source": [
    "### Импорт библиотек"
   ]
  },
  {
   "cell_type": "code",
   "execution_count": 7,
   "id": "963a3c13",
   "metadata": {},
   "outputs": [],
   "source": [
    "import cv2  # Open CV - библиотека для обработки видео \n",
    "import moviepy.editor as mp # Библиотека для прикрепления к avi-файлу аудиодорожки и конвертирования в итоговый mp4-файл \n",
    "\n",
    "import pandas as pd # для чтения excel-файла 'Create_Ballet_v1.02.xlsx' и извлечения из него списка кадров\n",
    "import numpy as np\n",
    "import os # библиотека для работы с операционной системой"
   ]
  },
  {
   "cell_type": "code",
   "execution_count": 8,
   "id": "ec014af6-23e8-4271-86da-5a7fd7c1ee81",
   "metadata": {},
   "outputs": [
    {
     "data": {
      "text/html": [
       "<div>\n",
       "<style scoped>\n",
       "    .dataframe tbody tr th:only-of-type {\n",
       "        vertical-align: middle;\n",
       "    }\n",
       "\n",
       "    .dataframe tbody tr th {\n",
       "        vertical-align: top;\n",
       "    }\n",
       "\n",
       "    .dataframe thead th {\n",
       "        text-align: right;\n",
       "    }\n",
       "</style>\n",
       "<table border=\"1\" class=\"dataframe\">\n",
       "  <thead>\n",
       "    <tr style=\"text-align: right;\">\n",
       "      <th></th>\n",
       "      <th>Финальный кадр</th>\n",
       "    </tr>\n",
       "  </thead>\n",
       "  <tbody>\n",
       "    <tr>\n",
       "      <th>0</th>\n",
       "      <td>Dying Swan_0-01-10.20.jpg</td>\n",
       "    </tr>\n",
       "    <tr>\n",
       "      <th>1</th>\n",
       "      <td>Dying Swan_0-01-10.24.jpg</td>\n",
       "    </tr>\n",
       "    <tr>\n",
       "      <th>2</th>\n",
       "      <td>Dying Swan_0-01-10.28.jpg</td>\n",
       "    </tr>\n",
       "    <tr>\n",
       "      <th>3</th>\n",
       "      <td>Dying Swan_0-01-10.32.jpg</td>\n",
       "    </tr>\n",
       "    <tr>\n",
       "      <th>4</th>\n",
       "      <td>Dying Swan_0-01-10.36.jpg</td>\n",
       "    </tr>\n",
       "  </tbody>\n",
       "</table>\n",
       "</div>"
      ],
      "text/plain": [
       "              Финальный кадр\n",
       "0  Dying Swan_0-01-10.20.jpg\n",
       "1  Dying Swan_0-01-10.24.jpg\n",
       "2  Dying Swan_0-01-10.28.jpg\n",
       "3  Dying Swan_0-01-10.32.jpg\n",
       "4  Dying Swan_0-01-10.36.jpg"
      ]
     },
     "execution_count": 8,
     "metadata": {},
     "output_type": "execute_result"
    }
   ],
   "source": [
    "audio_folder = 'BalletMusic' # папка, куда сохранили аудиофайлы\n",
    "\n",
    "audio_path = 'BalletMusic' # папка с аудиофайлами\n",
    "audio_file = os.path.join(audio_path, audio_name) # полное имя аудиофайла\n",
    " \n",
    "image_folder = 'BalletFramesBig' # папка с изображениями размера 1280 на 720\n",
    "output_folder = 'CreateBallet' # папка куда сохраняем готовый видеофайл\n",
    "\n",
    "video_name = sheet\n",
    "\n",
    "file = r'Create_Ballet_v1.3.xlsx' # конструктор балетного номера\n",
    "column = 'Финальный кадр' # столбец с финальной последовательностю кадров\n",
    "\n",
    "# загружаем excel файл, указаннный столбец\n",
    "ballet_images = pd.read_excel(file, sheet_name=sheet, usecols=[column]) \n",
    "ballet_images.head()"
   ]
  },
  {
   "cell_type": "markdown",
   "id": "5838e200",
   "metadata": {},
   "source": [
    "# Создание видео"
   ]
  },
  {
   "cell_type": "code",
   "execution_count": 9,
   "id": "87840e78",
   "metadata": {},
   "outputs": [],
   "source": [
    "# Video Generating function \n",
    "def create_ballet(ballet_images, image_folder,  video_name, output_folder, audio_file): \n",
    "    print('Начинаю Create ballet')\n",
    "    \n",
    "    # Размеры видео\n",
    "    width =1280  \n",
    "    height = 720\n",
    "    \n",
    "    # Преобразуем столбец из pandas.датафрейм в список\n",
    "    images= ballet_images['Финальный кадр'].to_list()\n",
    "\n",
    "    \n",
    "    if ~video_name.endswith('.avi'):\n",
    "        video_name_avi = \"temp_\" + video_name + '.avi'\n",
    "    print(f'Имя промежуточного видео файла: {video_name_avi}')\n",
    "    \n",
    " \n",
    "    video_file_avi = os.path.join(output_folder, video_name_avi)\n",
    "    video = cv2.VideoWriter(video_file_avi, 0, 25, (width, height))  \n",
    "  \n",
    "    # Appending the images to the video one by one \n",
    "    print(\"Количество кадров\", len(images))\n",
    "    for image in images:  \n",
    "\n",
    "        video.write(cv2.imread(os.path.join(image_folder, image)))  \n",
    "        \n",
    "    \n",
    "      \n",
    "    # Deallocating memories taken for window creation \n",
    "    cv2.destroyAllWindows()  \n",
    "    video.release()  # releasing the video generated \n",
    "    print('Создан промежуточный видеофайл')\n",
    "    \n",
    "    if ~video_name.endswith('.mp4'):\n",
    "        video_name_mp4 = video_name + '.mp4'\n",
    "    \n",
    "    print(f'Создаю финальный видеофайл {video_name_mp4}')\n",
    "    output_path = os.path.join(output_folder, video_name_mp4)\n",
    "    video = mp.VideoFileClip(video_file_avi)\n",
    "    audio = mp.AudioFileClip(audio_file)\n",
    "\n",
    "    video = video.set_audio(audio)\n",
    "    video.write_videofile(output_path)\n",
    "    \n",
    "    print('Финальный видеофайл создан')\n",
    "    os.remove(video_file_avi)\n",
    "    print('Удаляю временный видеофайл')\n",
    "    print('done')"
   ]
  },
  {
   "cell_type": "code",
   "execution_count": null,
   "id": "06b49ceb-24d3-4f4f-86ed-8632fde73fb2",
   "metadata": {},
   "outputs": [],
   "source": [
    "# запускаем функцию генерации видео\n",
    "create_ballet(ballet_images, image_folder, video_name, output_folder, audio_file) "
   ]
  },
  {
   "cell_type": "code",
   "execution_count": null,
   "id": "c7ab8b70-135e-4ce6-a785-b5fc22ba9702",
   "metadata": {},
   "outputs": [],
   "source": []
  },
  {
   "cell_type": "code",
   "execution_count": null,
   "id": "2c93a795-8eba-46a7-9f72-37fb6b85c539",
   "metadata": {},
   "outputs": [],
   "source": []
  },
  {
   "cell_type": "code",
   "execution_count": null,
   "id": "f1a1cf2f-b4f6-4e89-b16e-8678211bb067",
   "metadata": {},
   "outputs": [],
   "source": []
  }
 ],
 "metadata": {
  "kernelspec": {
   "display_name": "Python 3 (ipykernel)",
   "language": "python",
   "name": "python3"
  },
  "language_info": {
   "codemirror_mode": {
    "name": "ipython",
    "version": 3
   },
   "file_extension": ".py",
   "mimetype": "text/x-python",
   "name": "python",
   "nbconvert_exporter": "python",
   "pygments_lexer": "ipython3",
   "version": "3.11.7"
  }
 },
 "nbformat": 4,
 "nbformat_minor": 5
}
