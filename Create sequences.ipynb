{
 "cells": [
  {
   "cell_type": "markdown",
   "id": "35cb89e2-d2b4-4bed-ae16-57d9ce8da575",
   "metadata": {},
   "source": [
    "# Расскадровка видео: создание последовательностей изображений\n",
    "\n",
    "За основу взят код из статьи:\n",
    "+ Как с помощью Python извлекать кадры из видео \n",
    "https://waksoft.susu.ru/2021/11/16/kak-s-pomoshhyu-python-izvlekat-kadry-iz-video/\n",
    "### Алгоритм\n",
    "#### Вручную:\n",
    "+ Скачиваем с Youtube видео-файлы и сохраняем их в папку `FromYoutube`\n",
    "+ Для скачки используем сервис `https://ru.savefrom.net/`\n",
    "+ Скачиваем `mp4` в наилучшем доступном качестве (720 и выше)\n",
    "\n",
    "#### Код:\n",
    "+ Импорт библиотек: Open CV, os, pandas, datetime.timedelta и datetime.data\n",
    "+ Создается список видеофайлов в папке `FromYoutube`: используется библиотека `os`"
   ]
  },
  {
   "cell_type": "markdown",
   "id": "3ff273fb",
   "metadata": {},
   "source": [
    "### Импорт библиотек"
   ]
  },
  {
   "cell_type": "code",
   "execution_count": 13,
   "id": "10ad7317-047c-4f50-862c-8de0e802cfdf",
   "metadata": {},
   "outputs": [],
   "source": [
    "import cv2 # Open CV - библиотека для обработки видео \n",
    "import os # библиотека для работы с операционной системой\n",
    "\n",
    "import pandas as pd # для формирования списка кадров и сохранения его в excel-файлах\n",
    "import numpy as np\n",
    "\n",
    "from datetime import timedelta, date # для обработки меток времени\n",
    "date_ =  pd.Timestamp.now().date()"
   ]
  },
  {
   "cell_type": "markdown",
   "id": "a0edc26d",
   "metadata": {},
   "source": [
    "### Создаем список видеофайлов в папке `FromYoutube_mp4`"
   ]
  },
  {
   "cell_type": "code",
   "execution_count": 14,
   "id": "f7dbb0a6",
   "metadata": {},
   "outputs": [
    {
     "data": {
      "text/plain": [
       "['Baryshnikov.mp4',\n",
       " 'Black Swan.mp4',\n",
       " 'Don Khihot.mp4',\n",
       " 'Dying Swan.mp4',\n",
       " 'Giselle.mp4',\n",
       " 'Odetta.mp4',\n",
       " 'Pavlova.mp4',\n",
       " 'Queen of Hearts.mp4',\n",
       " 'Sleeping Beauty.mp4',\n",
       " 'Sugar Plum.mp4',\n",
       " 'Tanec Fei Draze.mp4']"
      ]
     },
     "execution_count": 14,
     "metadata": {},
     "output_type": "execute_result"
    }
   ],
   "source": [
    "from_youtube_folder = 'FromYoutube_mp4'\n",
    "files_from_Youtube = os.listdir(from_youtube_folder)\n",
    "files_from_Youtube"
   ]
  },
  {
   "cell_type": "markdown",
   "id": "e49e827a",
   "metadata": {},
   "source": [
    "### Папка, в которую будут сохраняться изображения"
   ]
  },
  {
   "cell_type": "code",
   "execution_count": 15,
   "id": "56557db5",
   "metadata": {},
   "outputs": [],
   "source": [
    "folder_FromYoutube_jpeg = 'FromYoutube_jpeg'"
   ]
  },
  {
   "cell_type": "markdown",
   "id": "e61bd1e4",
   "metadata": {},
   "source": [
    "### Функция `format_timedelta`\n",
    "Для получения понятных меток времени конкретного кадра.\n",
    "Эти метки используем при присваивании имен кадрам.\n",
    "\n",
    "Например, пусть у конкретного кадра метка времени **237.88** секунда (т.е. `frame_duration=237.88`).\n",
    "+ тогда с помощью функции `timedelta` преобразуем 237.88 в **datetime.timedelta(seconds=237, microseconds=880000)** \n",
    "    + (строчка `timedelta(seconds=frame_duration)`)\n",
    "\n",
    "+ подаем `td = datetime.timedelta(seconds=237, microseconds=880000)` на вход **format_timedelta**\n",
    "+ получаем красивое значение: **0-03-57.88**"
   ]
  },
  {
   "cell_type": "code",
   "execution_count": 16,
   "id": "af0e1d22",
   "metadata": {},
   "outputs": [],
   "source": [
    "def format_timedelta(td):\n",
    "    \"\"\"Служебная функция для классного форматирования объекта timedelta (например, 00:00:20.05)\n",
    "    исключая микросекунды и сохраняя миллисекунды\"\"\"\n",
    "    result = str(td)\n",
    "    try:\n",
    "        result, ms = result.split(\".\")\n",
    "    except:\n",
    "        result, ms = (result + \".00\").replace(\":\", \"-\").split(\".\")\n",
    "        \n",
    "    ms = int(ms)\n",
    "    ms = round(ms / 1e4)\n",
    "    return f\"{result}.{ms:02}\".replace(\":\", \"-\")"
   ]
  },
  {
   "cell_type": "markdown",
   "id": "31f8a24e",
   "metadata": {},
   "source": [
    "### Функция `get_saving_frames_durations`\n",
    "+ Функция берет длительность видеофайла в секундах\n",
    "+ Берет количество количество кадров в 1 секунде (25 кадров)\n",
    "+ и возвращает список длительностей, в которые следует сохранять кадры\n",
    "\n",
    "Так, для 1-ой секунды видео длительности кадров, которые следует сохранять, будут такими:\n",
    "`[0.0, 0.04, 0.08, 0.12, 0.16, 0.2, 0.24, 0.28, 0.32, 0.36, 0.4, 0.44, 0.48, 0.52, 0.56, 0.6, 0.64, 0.68, 0.72, 0.76, 0.8, 0.84, 0.88, 0.92, 0.96]` "
   ]
  },
  {
   "cell_type": "code",
   "execution_count": 17,
   "id": "d9d26022-88fa-42f0-a986-3c3ffd257ad4",
   "metadata": {},
   "outputs": [],
   "source": [
    "def get_saving_frames_durations(cap, saving_fps):\n",
    "    \"\"\"функция, которая возвращает список длительностей, в которые следует сохранять кадры.\"\"\"\n",
    "    s = []\n",
    "    \n",
    "    # получаем продолжительность клипа, разделив количество кадров на количество кадров в секунду\n",
    "\n",
    "    try:\n",
    "        clip_duration = cap.get(cv2.CAP_PROP_FRAME_COUNT) / cap.get(cv2.CAP_PROP_FPS)\n",
    "    except:\n",
    "        clip_duration = cap.get(cv2.CAP_PROP_FRAME_COUNT) / 29.97\n",
    "    print(f'clip duration (sec): {clip_duration}') \n",
    "\n",
    "    \n",
    "    for i in np.arange (0, clip_duration, 1/saving_fps):\n",
    "        i = round(i,2)\n",
    "        s.append(i)\n",
    "    return s\n",
    " "
   ]
  },
  {
   "cell_type": "markdown",
   "id": "6972543a",
   "metadata": {},
   "source": [
    "#### Пример работы функции `get_saving_frames_durations`"
   ]
  },
  {
   "cell_type": "code",
   "execution_count": 18,
   "id": "26246ee0",
   "metadata": {},
   "outputs": [
    {
     "data": {
      "text/plain": [
       "'FromYoutube_mp4\\\\Baryshnikov.mp4'"
      ]
     },
     "execution_count": 18,
     "metadata": {},
     "output_type": "execute_result"
    }
   ],
   "source": [
    "# формируем полное имя видеофайла\n",
    "filename = 'Baryshnikov.mp4'\n",
    "video_file = os.path.join(from_youtube_folder, filename)\n",
    "video_file"
   ]
  },
  {
   "cell_type": "code",
   "execution_count": 19,
   "id": "6361f2b0",
   "metadata": {},
   "outputs": [
    {
     "data": {
      "text/plain": [
       "< cv2.VideoCapture 0000019F3B1BE9B0>"
      ]
     },
     "execution_count": 19,
     "metadata": {},
     "output_type": "execute_result"
    }
   ],
   "source": [
    "# создаем объект `cap`\n",
    "cap = cv2.VideoCapture(video_file)\n",
    "cap"
   ]
  },
  {
   "cell_type": "code",
   "execution_count": 20,
   "id": "3b20f7dd",
   "metadata": {},
   "outputs": [
    {
     "name": "stdout",
     "output_type": "stream",
     "text": [
      "clip duration (sec): 81.28\n"
     ]
    },
    {
     "data": {
      "text/plain": [
       "[0.0, 0.04, 0.08, 0.12, 0.16, 0.2, 0.24, 0.28, 0.32, 0.36, 0.4, 0.44, 0.48]"
      ]
     },
     "execution_count": 20,
     "metadata": {},
     "output_type": "execute_result"
    }
   ],
   "source": [
    "# применяем нашу функцию\n",
    "# для экономии места выводим только первые 13 (почти полсекнуды) значений из списка, которые возвращает функция\n",
    "get_saving_frames_durations(cap, 25)[:13]\n"
   ]
  },
  {
   "cell_type": "markdown",
   "id": "7f641f17",
   "metadata": {},
   "source": [
    "### Функция `main`"
   ]
  },
  {
   "cell_type": "code",
   "execution_count": 21,
   "id": "35ecbd59",
   "metadata": {},
   "outputs": [],
   "source": [
    "SAVING_FRAMES_PER_SECOND = 25\n",
    "def main(file):\n",
    "    \n",
    "    # формируем полное имя видеофайла для расскадровки:\n",
    "    # сшиваем адрес папки и имя файла\n",
    "    video_file = os.path.join(from_youtube_folder, file)\n",
    "    filename, _ = os.path.splitext(file)\n",
    "    print(f'Начинаю раскадровку файла {file}')\n",
    "\n",
    "    # читать видео файл с помощью библиотеки Open CV\n",
    "    cap = cv2.VideoCapture(video_file)\n",
    "    \n",
    "    # получить FSP видео\n",
    "    # FSP - frames per second\n",
    "    fps = cap.get(cv2.CAP_PROP_FPS)\n",
    "\n",
    "    # заметила, что если у видеофайла FSP составляет 29.97 кадров в секунду, \n",
    "    # то `cap.get` возвращает ноль\n",
    "    # для таких случаев принудительно заменяю 0 на 29.97\n",
    "    if fps == 0:\n",
    "        fps = 29.97\n",
    "   \n",
    "    saving_frames_per_second = min(fps, SAVING_FRAMES_PER_SECOND)\n",
    "    \n",
    "    # получить список длительностей для сохранения\n",
    "    saving_frames_durations = get_saving_frames_durations(cap,\n",
    "                                                          saving_frames_per_second)\n",
    "\n",
    "    # создать датасет на названиями кадров\n",
    "    df = pd.DataFrame(columns=['frame'])\n",
    "    \n",
    "    # запускаем цикл\n",
    "    count = 0\n",
    "    while True:\n",
    "        is_read, frame = cap.read()\n",
    "        if not is_read:\n",
    "            # выйти из цикла, если нет фреймов для чтения\n",
    "            print('нет фреймов для чтения, заканчиваю расскадровку видео')\n",
    "            break\n",
    "            \n",
    "        # получаем продолжительность, разделив количество кадров на FSP\n",
    "        frame_duration = count / fps\n",
    "        \n",
    "        try:\n",
    "            # получить самую раннюю продолжительность для сохранения\n",
    "            closest_duration = saving_frames_durations[0]\n",
    "        except IndexError:\n",
    "            # список пуск, все кадры длительности сохранены\n",
    "            print('список пуск, все кадры длительности сохранены')\n",
    "            break\n",
    "\n",
    "        if frame_duration >= closest_duration:\n",
    "            # если ближайшая длительность меньше или равна длительности кадра,\n",
    "            # затем сохраняем фрейм\n",
    "            frame_duration_formatted = format_timedelta(timedelta(seconds=frame_duration))\n",
    "            \n",
    "            cv2.imwrite(os.path.join(folder_FromYoutube_jpeg,f\"{filename}_{frame_duration_formatted}.jpg\"), \n",
    "                        frame)\n",
    "            \n",
    "            # создать датасет на названиями кадров\n",
    "            df.loc[len(df)] = f'{filename}_{frame_duration_formatted}'\n",
    "            \n",
    "            # удалить точку продолжительности из списка, так как эта точка длительности уже сохранена\n",
    "            try:\n",
    "                saving_frames_durations.pop(0)\n",
    "            except IndexError:\n",
    "                pass\n",
    "        # увеличить количество кадров\n",
    "        count += 1\n",
    "    \n",
    "    # сохраняю датафрейм со списком кадров\n",
    "    df.to_excel(f'excel_seqeunces/{filename}.xlsx')"
   ]
  },
  {
   "cell_type": "markdown",
   "id": "eadc8056",
   "metadata": {},
   "source": [
    "### Применяю функцию `main` ко всем видеофайлам в папке `FromYoutube`"
   ]
  },
  {
   "cell_type": "code",
   "execution_count": null,
   "id": "b2f83178-0ce0-4587-8512-e636343b0e7d",
   "metadata": {},
   "outputs": [],
   "source": [
    "for file in files_from_Youtube:\n",
    "    main(file)\n",
    "print('Раскадровка завершена')"
   ]
  },
  {
   "cell_type": "code",
   "execution_count": null,
   "id": "031fb89a",
   "metadata": {},
   "outputs": [],
   "source": []
  },
  {
   "cell_type": "code",
   "execution_count": null,
   "id": "63c706c1",
   "metadata": {},
   "outputs": [],
   "source": []
  }
 ],
 "metadata": {
  "kernelspec": {
   "display_name": "Python 3 (ipykernel)",
   "language": "python",
   "name": "python3"
  },
  "language_info": {
   "codemirror_mode": {
    "name": "ipython",
    "version": 3
   },
   "file_extension": ".py",
   "mimetype": "text/x-python",
   "name": "python",
   "nbconvert_exporter": "python",
   "pygments_lexer": "ipython3",
   "version": "3.11.7"
  }
 },
 "nbformat": 4,
 "nbformat_minor": 5
}
