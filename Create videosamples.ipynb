{
 "cells": [
  {
   "cell_type": "markdown",
   "id": "8adbfc3e-6bce-4033-9207-86165f1490b6",
   "metadata": {},
   "source": [
    "# Код для создания видеосэмплов отдельных балетных па\n",
    "Видеосэмплы используют для предпросмотра балетных па из Библиотеки балетных па.\n",
    "\n",
    "Видеосэмплы созданы на основе кадров (фреймов) из Библиотеки балетных па (созданной в процессе выполнения проекта)\n",
    "\n",
    "Для экономии памяти, видеосэмплы сделаны в уменьшенном формате: **256 х 144** пикселей"
   ]
  },
  {
   "cell_type": "markdown",
   "id": "f9788956-a7fb-401f-9271-ecbaa1af768a",
   "metadata": {},
   "source": [
    "## Алгоритм создания видеосэмплов\n",
    "\n",
    "1. Напишем функцию **get_frames**: для получения списка кадров, из которых состоит балетный элемент\n",
    "2. Напишем функцию **generate_video**: для генерирования видеосэмплов из списка кадров\n",
    "3. Импортируем необходимые библиотеки\n",
    "4. Загружаем excel-файл и формируем два датафрейма: **elements** и **frame_index**\n",
    "5. Генерируем видеосэмплы и сохраняем их в соответствующие папки"
   ]
  },
  {
   "cell_type": "markdown",
   "id": "f4ce7424-7e3f-4ab4-a841-a9f4b82b47b6",
   "metadata": {},
   "source": [
    "### 1. Функция для получения списка кадров, из которых состоит балетный элемент\n",
    "\n",
    "+  создаем функцию get_frames, которая по индентификатору балетного элемента (id_element) выдает список фреймов (кадров), из которых состоит балетный элемент\n",
    "\n",
    "**id_element** состоит из трех частей: `Элемент_Балет_Num`\n",
    "+ название элемента\n",
    "+  название балета (балетного номера)\n",
    "+ порядковый номер этого элемента в этом балетном номере среди аналогичных элементов"
   ]
  },
  {
   "cell_type": "code",
   "execution_count": 1,
   "id": "a4419194-627c-4fdd-906f-0b8ef0420c44",
   "metadata": {},
   "outputs": [],
   "source": [
    "def get_frames(id_element):\n",
    "    \"\"\"\n",
    "    Функция для получения списка кадров (названия jpg файлов), из которых состоит балетный элемент.\n",
    "\n",
    "    Параметры:\n",
    "    -----------\n",
    "    id_element: str\n",
    "        Название балетного элемента в формате \"Элемент_Балет_Номер\"\n",
    "\n",
    "    \"\"\"\n",
    "    # определяем название первого кадра, из которого состоит конкретный балетный элемент\n",
    "    first_frame = elements[elements['id_element'] == id_element]['Begin'].values[0]\n",
    "\n",
    "    # добавляем к названию тип файла (расширение)\n",
    "    first_frame_jpg = first_frame + '.jpg'\n",
    "\n",
    "    # определяем название последнего кадра, из которого состоит конкретный балетный элемент\n",
    "    last_frame = elements[elements['id_element'] == id_element]['End'].values[0]\n",
    "    last_frame_jpg = last_frame + \".jpg\"\n",
    "\n",
    "    # индекс первого кадра\n",
    "    index_begin = frame_index[frame_index['frames']==first_frame_jpg].index[0] - 5\n",
    "\n",
    "    # индекс последнего кадра\n",
    "    index_end = frame_index[frame_index['frames']==last_frame_jpg].index[0] + 5\n",
    "\n",
    "    # формируем список из индексов кадров\n",
    "    # в список входит индекс первого кадра, последнего кадра и всех промежуточных кадров\n",
    "    frames_list = list(range(index_begin, index_end))\n",
    "\n",
    "    # по списку из индексов отбираем названия кадров, которые формируют наш id_element\n",
    "    frames = frame_index[frame_index.index.isin(list(range(index_begin, index_end+1)))]\n",
    "\n",
    "    # формируем список из кадров, которые относятся к данному элементу\n",
    "    pictures = list(frame_index[frame_index.index.isin(list(range(index_begin,index_end)))]['frames'])\n",
    "\n",
    "    return pictures\n"
   ]
  },
  {
   "cell_type": "markdown",
   "id": "551ca24d-0405-48d6-9d18-8636de47a8bb",
   "metadata": {},
   "source": [
    "### 2. Функция для генерирования видеосэмплов из списка кадров\n",
    "+ создаем функцию generate_video, которая генерирует видеофайл из набора (списка) фреймов (кадров): для каждого балетного элемента свой видеофайл "
   ]
  },
  {
   "cell_type": "code",
   "execution_count": 2,
   "id": "9c32aa64-b561-4128-95d0-2a267c405403",
   "metadata": {},
   "outputs": [],
   "source": [
    "def generate_video(id_element, samples_folder, image_folder='BalletFramesSmall'):\n",
    "    \"\"\"\n",
    "    Функция для генерирования видеосэмплов из списка кадров.\n",
    "    По умолчанию формат видео: 256 на 144\n",
    "\n",
    "    Параметры:\n",
    "    + id_element: string,\n",
    "        Идентификатор балетного элемента\n",
    "    + samples_folder: string\n",
    "        Папка, в которую сохраняются видеосэмплы\n",
    "    + image_folder: string\n",
    "        Папка с кадрами (уменьшенными)\n",
    "\n",
    "    \"\"\"\n",
    "    width=256\n",
    "    height=144\n",
    "    print(f'{id_element} sample ')\n",
    "\n",
    "    # указываем, как будут называться файлы-видеосэмплы\n",
    "    video_name = os.path.join(samples_folder, f'{id_element}.avi')\n",
    "\n",
    "    # применяем нашу функцию get_frames\n",
    "    # получаем список кадров, которые формируют конкретный балетный элемент\n",
    "    images = get_frames(id_element)\n",
    "    print(id_element)\n",
    "\n",
    "    # создаем экземпляр VideoWriter\n",
    "    # указываем параметры: название файла, кодек по умолчанию, частота кадров (25),\n",
    "    video = cv2.VideoWriter(video_name, 0, 25, (width, height))\n",
    "\n",
    "    # генерируем видео последовательно, добавляя кадры из нашего списка\n",
    "    for image in images:\n",
    "        print(os.path.join(image_folder, image))\n",
    "        video.write(cv2.imread(os.path.join(image_folder, image)))\n",
    "\n",
    "    # Очищаем память\n",
    "    cv2.destroyAllWindows()\n",
    "    video.release()\n",
    "\n"
   ]
  },
  {
   "cell_type": "markdown",
   "id": "0f3c3c45-c238-46ad-bd79-8190c4ed7783",
   "metadata": {},
   "source": [
    "## Создание видео"
   ]
  },
  {
   "cell_type": "markdown",
   "id": "1b44ac56-4a5e-4ffd-b67b-c05cb1aeed02",
   "metadata": {},
   "source": [
    "### 3. Импортируем необходимые библиотеки"
   ]
  },
  {
   "cell_type": "code",
   "execution_count": 3,
   "id": "a9a396b3-3d08-4d35-a1b2-0b1e1b1a01aa",
   "metadata": {},
   "outputs": [],
   "source": [
    "import pandas as pd # пандас - библиотека для обработки excel файлов\n",
    "import cv2 # open cv - библиотека для получения видео из набора кадров (фреймов)\n",
    "import os # библиотека для работы с именами файлов и их расположением\n",
    "\n",
    "from PIL import Image # для изменения размера кадров"
   ]
  },
  {
   "cell_type": "markdown",
   "id": "d46493b6-0329-49a0-a6b8-cf7c0fa380bd",
   "metadata": {},
   "source": [
    "### 4. Загружаем excel-файл и формируем два датафрейма"
   ]
  },
  {
   "cell_type": "code",
   "execution_count": 4,
   "id": "390ae497-0c60-4e44-8a5a-17e3b50ddb12",
   "metadata": {},
   "outputs": [],
   "source": [
    "# загружаем датафреймы\n",
    "file = \"Create_Ballet_v1.3.xlsx\"\n",
    "\n",
    "elements = pd.read_excel(file, \n",
    "                         sheet_name=\"Элементы_экземпляры_кадры\",\n",
    "                        header=0)"
   ]
  },
  {
   "cell_type": "code",
   "execution_count": null,
   "id": "4edb99f6-16cd-4b0b-b223-b251a4a3fbef",
   "metadata": {},
   "outputs": [],
   "source": [
    "# смотрим первые 5 строк\n",
    "elements.head()"
   ]
  },
  {
   "cell_type": "code",
   "execution_count": null,
   "id": "085f3e4f-7b94-4005-a738-121a1280f6df",
   "metadata": {},
   "outputs": [],
   "source": [
    "elements.tail()"
   ]
  },
  {
   "cell_type": "code",
   "execution_count": 7,
   "id": "619d49c5-2320-40f8-ac33-5ec0073e0626",
   "metadata": {},
   "outputs": [
    {
     "data": {
      "text/html": [
       "<div>\n",
       "<style scoped>\n",
       "    .dataframe tbody tr th:only-of-type {\n",
       "        vertical-align: middle;\n",
       "    }\n",
       "\n",
       "    .dataframe tbody tr th {\n",
       "        vertical-align: top;\n",
       "    }\n",
       "\n",
       "    .dataframe thead th {\n",
       "        text-align: right;\n",
       "    }\n",
       "</style>\n",
       "<table border=\"1\" class=\"dataframe\">\n",
       "  <thead>\n",
       "    <tr style=\"text-align: right;\">\n",
       "      <th></th>\n",
       "      <th>frames</th>\n",
       "    </tr>\n",
       "    <tr>\n",
       "      <th>index</th>\n",
       "      <th></th>\n",
       "    </tr>\n",
       "  </thead>\n",
       "  <tbody>\n",
       "    <tr>\n",
       "      <th>0</th>\n",
       "      <td>Baryshnikov_0-00-00.00.jpg</td>\n",
       "    </tr>\n",
       "    <tr>\n",
       "      <th>1</th>\n",
       "      <td>Baryshnikov_0-00-00.04.jpg</td>\n",
       "    </tr>\n",
       "    <tr>\n",
       "      <th>2</th>\n",
       "      <td>Baryshnikov_0-00-00.08.jpg</td>\n",
       "    </tr>\n",
       "    <tr>\n",
       "      <th>3</th>\n",
       "      <td>Baryshnikov_0-00-00.12.jpg</td>\n",
       "    </tr>\n",
       "    <tr>\n",
       "      <th>4</th>\n",
       "      <td>Baryshnikov_0-00-00.16.jpg</td>\n",
       "    </tr>\n",
       "  </tbody>\n",
       "</table>\n",
       "</div>"
      ],
      "text/plain": [
       "                           frames\n",
       "index                            \n",
       "0      Baryshnikov_0-00-00.00.jpg\n",
       "1      Baryshnikov_0-00-00.04.jpg\n",
       "2      Baryshnikov_0-00-00.08.jpg\n",
       "3      Baryshnikov_0-00-00.12.jpg\n",
       "4      Baryshnikov_0-00-00.16.jpg"
      ]
     },
     "execution_count": 7,
     "metadata": {},
     "output_type": "execute_result"
    }
   ],
   "source": [
    "frame_index = pd.read_excel(file, \n",
    "                            sheet_name=\"кадры_индексы\",\n",
    "                            index_col=0,\n",
    "                            usecols=['index', 'frames'])\n",
    "frame_index.head()"
   ]
  },
  {
   "cell_type": "markdown",
   "id": "9701b8a5-cd14-4dff-b248-de2bd772d941",
   "metadata": {},
   "source": [
    "### 5. Генерируем видеосэмплы и сохраняем их в соответствующие (дочерние) папки"
   ]
  },
  {
   "cell_type": "code",
   "execution_count": null,
   "id": "9363b418-6453-4753-9f10-2a1972586aba",
   "metadata": {},
   "outputs": [],
   "source": [
    "# Основная (родительская) папка для видеосэмплов\n",
    "folder_parent = \"BalletVideoSamples\"\n",
    "\n",
    "\n",
    "\n",
    "# перебираем все строки (балетные элементы) в датафрейме elements\n",
    "for idx in elements.index:\n",
    "\n",
    "    # название дочерних папок - папок для каждой группы элементов\n",
    "    # эти папки находятся внутри родительской папки \"BalletVideoSamples\"\n",
    "    folder_element = os.path.join(folder_parent,\n",
    "                                  elements.loc[idx, 'Элемент'])\n",
    "\n",
    "    # проверяем наличие дочерней папки (папки для отдельной группы элементов)\n",
    "    # если дочерней папки не существует внутри родительской - то создаем её\n",
    "    if not os.path.isdir(folder_element):\n",
    "        os.mkdir(folder_element)\n",
    "\n",
    "    # создаем видеосэмплы с помощью нашей функции generate_video\n",
    "    # каждый видеосэмпл сохраняем в соответствующую дочернюю папку\n",
    "    id_element = elements.loc[idx, 'id_element']\n",
    "    generate_video(id_element, folder_element)\n",
    "\n",
    "print('Готово!')"
   ]
  },
  {
   "cell_type": "code",
   "execution_count": null,
   "id": "b58431fd",
   "metadata": {},
   "outputs": [],
   "source": []
  },
  {
   "cell_type": "code",
   "execution_count": null,
   "id": "ba7741d4-b5a6-4e3a-984e-ca0914517966",
   "metadata": {},
   "outputs": [],
   "source": []
  }
 ],
 "metadata": {
  "kernelspec": {
   "display_name": "Python 3 (ipykernel)",
   "language": "python",
   "name": "python3"
  },
  "language_info": {
   "codemirror_mode": {
    "name": "ipython",
    "version": 3
   },
   "file_extension": ".py",
   "mimetype": "text/x-python",
   "name": "python",
   "nbconvert_exporter": "python",
   "pygments_lexer": "ipython3",
   "version": "3.11.7"
  }
 },
 "nbformat": 4,
 "nbformat_minor": 5
}
